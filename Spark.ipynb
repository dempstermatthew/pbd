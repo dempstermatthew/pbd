{
  "nbformat": 4,
  "nbformat_minor": 0,
  "metadata": {
    "colab": {
      "name": "Spark.ipynb",
      "version": "0.3.2",
      "provenance": [],
      "include_colab_link": true
    },
    "kernelspec": {
      "name": "python3",
      "display_name": "Python 3"
    }
  },
  "cells": [
    {
      "cell_type": "markdown",
      "metadata": {
        "id": "view-in-github",
        "colab_type": "text"
      },
      "source": [
        "<a href=\"https://colab.research.google.com/github/dempstermatthew/pbd/blob/master/Spark.ipynb\" target=\"_parent\"><img src=\"https://colab.research.google.com/assets/colab-badge.svg\" alt=\"Open In Colab\"/></a>"
      ]
    },
    {
      "metadata": {
        "id": "c2S6bwZbiU05",
        "colab_type": "code",
        "colab": {}
      },
      "cell_type": "code",
      "source": [
        "!apt-get install openjdk-8-jdk-headless -qq > /dev/null\n",
        "!wget -q http://www-us.apache.org/dist/spark/spark-2.3.1/spark-2.3.1-bin-hadoop2.7.tgz\n",
        "!tar xf spark-2.3.1-bin-hadoop2.7.tgz\n",
        "!pip install -q findspark"
      ],
      "execution_count": 0,
      "outputs": []
    },
    {
      "metadata": {
        "id": "_aGA31lPicvO",
        "colab_type": "code",
        "colab": {}
      },
      "cell_type": "code",
      "source": [
        "import os\n",
        "os.environ[\"JAVA_HOME\"] = \"/usr/lib/jvm/java-8-openjdk-amd64\"\n",
        "os.environ[\"SPARK_HOME\"] = \"/content/spark-2.3.1-bin-hadoop2.7\""
      ],
      "execution_count": 0,
      "outputs": []
    },
    {
      "metadata": {
        "id": "Sp7q09oBii-S",
        "colab_type": "code",
        "colab": {}
      },
      "cell_type": "code",
      "source": [
        "import findspark\n",
        "findspark.init()\n",
        "from pyspark.sql import SparkSession\n",
        "from pyspark import SparkContext\n",
        "\n",
        "spark = SparkSession.builder.master(\"local[*]\").getOrCreate()"
      ],
      "execution_count": 0,
      "outputs": []
    },
    {
      "metadata": {
        "id": "ogOcy_F1nqZn",
        "colab_type": "code",
        "outputId": "af8ffe55-9701-4005-8869-a8beaa87fe4d",
        "colab": {
          "resources": {
            "http://localhost:8080/nbextensions/google.colab/files.js": {
              "data": "Ly8gQ29weXJpZ2h0IDIwMTcgR29vZ2xlIExMQwovLwovLyBMaWNlbnNlZCB1bmRlciB0aGUgQXBhY2hlIExpY2Vuc2UsIFZlcnNpb24gMi4wICh0aGUgIkxpY2Vuc2UiKTsKLy8geW91IG1heSBub3QgdXNlIHRoaXMgZmlsZSBleGNlcHQgaW4gY29tcGxpYW5jZSB3aXRoIHRoZSBMaWNlbnNlLgovLyBZb3UgbWF5IG9idGFpbiBhIGNvcHkgb2YgdGhlIExpY2Vuc2UgYXQKLy8KLy8gICAgICBodHRwOi8vd3d3LmFwYWNoZS5vcmcvbGljZW5zZXMvTElDRU5TRS0yLjAKLy8KLy8gVW5sZXNzIHJlcXVpcmVkIGJ5IGFwcGxpY2FibGUgbGF3IG9yIGFncmVlZCB0byBpbiB3cml0aW5nLCBzb2Z0d2FyZQovLyBkaXN0cmlidXRlZCB1bmRlciB0aGUgTGljZW5zZSBpcyBkaXN0cmlidXRlZCBvbiBhbiAiQVMgSVMiIEJBU0lTLAovLyBXSVRIT1VUIFdBUlJBTlRJRVMgT1IgQ09ORElUSU9OUyBPRiBBTlkgS0lORCwgZWl0aGVyIGV4cHJlc3Mgb3IgaW1wbGllZC4KLy8gU2VlIHRoZSBMaWNlbnNlIGZvciB0aGUgc3BlY2lmaWMgbGFuZ3VhZ2UgZ292ZXJuaW5nIHBlcm1pc3Npb25zIGFuZAovLyBsaW1pdGF0aW9ucyB1bmRlciB0aGUgTGljZW5zZS4KCi8qKgogKiBAZmlsZW92ZXJ2aWV3IEhlbHBlcnMgZm9yIGdvb2dsZS5jb2xhYiBQeXRob24gbW9kdWxlLgogKi8KKGZ1bmN0aW9uKHNjb3BlKSB7CmZ1bmN0aW9uIHNwYW4odGV4dCwgc3R5bGVBdHRyaWJ1dGVzID0ge30pIHsKICBjb25zdCBlbGVtZW50ID0gZG9jdW1lbnQuY3JlYXRlRWxlbWVudCgnc3BhbicpOwogIGVsZW1lbnQudGV4dENvbnRlbnQgPSB0ZXh0OwogIGZvciAoY29uc3Qga2V5IG9mIE9iamVjdC5rZXlzKHN0eWxlQXR0cmlidXRlcykpIHsKICAgIGVsZW1lbnQuc3R5bGVba2V5XSA9IHN0eWxlQXR0cmlidXRlc1trZXldOwogIH0KICByZXR1cm4gZWxlbWVudDsKfQoKLy8gTWF4IG51bWJlciBvZiBieXRlcyB3aGljaCB3aWxsIGJlIHVwbG9hZGVkIGF0IGEgdGltZS4KY29uc3QgTUFYX1BBWUxPQURfU0laRSA9IDEwMCAqIDEwMjQ7Ci8vIE1heCBhbW91bnQgb2YgdGltZSB0byBibG9jayB3YWl0aW5nIGZvciB0aGUgdXNlci4KY29uc3QgRklMRV9DSEFOR0VfVElNRU9VVF9NUyA9IDMwICogMTAwMDsKCmZ1bmN0aW9uIF91cGxvYWRGaWxlcyhpbnB1dElkLCBvdXRwdXRJZCkgewogIGNvbnN0IHN0ZXBzID0gdXBsb2FkRmlsZXNTdGVwKGlucHV0SWQsIG91dHB1dElkKTsKICBjb25zdCBvdXRwdXRFbGVtZW50ID0gZG9jdW1lbnQuZ2V0RWxlbWVudEJ5SWQob3V0cHV0SWQpOwogIC8vIENhY2hlIHN0ZXBzIG9uIHRoZSBvdXRwdXRFbGVtZW50IHRvIG1ha2UgaXQgYXZhaWxhYmxlIGZvciB0aGUgbmV4dCBjYWxsCiAgLy8gdG8gdXBsb2FkRmlsZXNDb250aW51ZSBmcm9tIFB5dGhvbi4KICBvdXRwdXRFbGVtZW50LnN0ZXBzID0gc3RlcHM7CgogIHJldHVybiBfdXBsb2FkRmlsZXNDb250aW51ZShvdXRwdXRJZCk7Cn0KCi8vIFRoaXMgaXMgcm91Z2hseSBhbiBhc3luYyBnZW5lcmF0b3IgKG5vdCBzdXBwb3J0ZWQgaW4gdGhlIGJyb3dzZXIgeWV0KSwKLy8gd2hlcmUgdGhlcmUgYXJlIG11bHRpcGxlIGFzeW5jaHJvbm91cyBzdGVwcyBhbmQgdGhlIFB5dGhvbiBzaWRlIGlzIGdvaW5nCi8vIHRvIHBvbGwgZm9yIGNvbXBsZXRpb24gb2YgZWFjaCBzdGVwLgovLyBUaGlzIHVzZXMgYSBQcm9taXNlIHRvIGJsb2NrIHRoZSBweXRob24gc2lkZSBvbiBjb21wbGV0aW9uIG9mIGVhY2ggc3RlcCwKLy8gdGhlbiBwYXNzZXMgdGhlIHJlc3VsdCBvZiB0aGUgcHJldmlvdXMgc3RlcCBhcyB0aGUgaW5wdXQgdG8gdGhlIG5leHQgc3RlcC4KZnVuY3Rpb24gX3VwbG9hZEZpbGVzQ29udGludWUob3V0cHV0SWQpIHsKICBjb25zdCBvdXRwdXRFbGVtZW50ID0gZG9jdW1lbnQuZ2V0RWxlbWVudEJ5SWQob3V0cHV0SWQpOwogIGNvbnN0IHN0ZXBzID0gb3V0cHV0RWxlbWVudC5zdGVwczsKCiAgY29uc3QgbmV4dCA9IHN0ZXBzLm5leHQob3V0cHV0RWxlbWVudC5sYXN0UHJvbWlzZVZhbHVlKTsKICByZXR1cm4gUHJvbWlzZS5yZXNvbHZlKG5leHQudmFsdWUucHJvbWlzZSkudGhlbigodmFsdWUpID0+IHsKICAgIC8vIENhY2hlIHRoZSBsYXN0IHByb21pc2UgdmFsdWUgdG8gbWFrZSBpdCBhdmFpbGFibGUgdG8gdGhlIG5leHQKICAgIC8vIHN0ZXAgb2YgdGhlIGdlbmVyYXRvci4KICAgIG91dHB1dEVsZW1lbnQubGFzdFByb21pc2VWYWx1ZSA9IHZhbHVlOwogICAgcmV0dXJuIG5leHQudmFsdWUucmVzcG9uc2U7CiAgfSk7Cn0KCi8qKgogKiBHZW5lcmF0b3IgZnVuY3Rpb24gd2hpY2ggaXMgY2FsbGVkIGJldHdlZW4gZWFjaCBhc3luYyBzdGVwIG9mIHRoZSB1cGxvYWQKICogcHJvY2Vzcy4KICogQHBhcmFtIHtzdHJpbmd9IGlucHV0SWQgRWxlbWVudCBJRCBvZiB0aGUgaW5wdXQgZmlsZSBwaWNrZXIgZWxlbWVudC4KICogQHBhcmFtIHtzdHJpbmd9IG91dHB1dElkIEVsZW1lbnQgSUQgb2YgdGhlIG91dHB1dCBkaXNwbGF5LgogKiBAcmV0dXJuIHshSXRlcmFibGU8IU9iamVjdD59IEl0ZXJhYmxlIG9mIG5leHQgc3RlcHMuCiAqLwpmdW5jdGlvbiogdXBsb2FkRmlsZXNTdGVwKGlucHV0SWQsIG91dHB1dElkKSB7CiAgY29uc3QgaW5wdXRFbGVtZW50ID0gZG9jdW1lbnQuZ2V0RWxlbWVudEJ5SWQoaW5wdXRJZCk7CiAgaW5wdXRFbGVtZW50LmRpc2FibGVkID0gZmFsc2U7CgogIGNvbnN0IG91dHB1dEVsZW1lbnQgPSBkb2N1bWVudC5nZXRFbGVtZW50QnlJZChvdXRwdXRJZCk7CiAgb3V0cHV0RWxlbWVudC5pbm5lckhUTUwgPSAnJzsKCiAgY29uc3QgcGlja2VkUHJvbWlzZSA9IG5ldyBQcm9taXNlKChyZXNvbHZlKSA9PiB7CiAgICBpbnB1dEVsZW1lbnQuYWRkRXZlbnRMaXN0ZW5lcignY2hhbmdlJywgKGUpID0+IHsKICAgICAgcmVzb2x2ZShlLnRhcmdldC5maWxlcyk7CiAgICB9KTsKICB9KTsKCiAgY29uc3QgY2FuY2VsID0gZG9jdW1lbnQuY3JlYXRlRWxlbWVudCgnYnV0dG9uJyk7CiAgaW5wdXRFbGVtZW50LnBhcmVudEVsZW1lbnQuYXBwZW5kQ2hpbGQoY2FuY2VsKTsKICBjYW5jZWwudGV4dENvbnRlbnQgPSAnQ2FuY2VsIHVwbG9hZCc7CiAgY29uc3QgY2FuY2VsUHJvbWlzZSA9IG5ldyBQcm9taXNlKChyZXNvbHZlKSA9PiB7CiAgICBjYW5jZWwub25jbGljayA9ICgpID0+IHsKICAgICAgcmVzb2x2ZShudWxsKTsKICAgIH07CiAgfSk7CgogIC8vIENhbmNlbCB1cGxvYWQgaWYgdXNlciBoYXNuJ3QgcGlja2VkIGFueXRoaW5nIGluIHRpbWVvdXQuCiAgY29uc3QgdGltZW91dFByb21pc2UgPSBuZXcgUHJvbWlzZSgocmVzb2x2ZSkgPT4gewogICAgc2V0VGltZW91dCgoKSA9PiB7CiAgICAgIHJlc29sdmUobnVsbCk7CiAgICB9LCBGSUxFX0NIQU5HRV9USU1FT1VUX01TKTsKICB9KTsKCiAgLy8gV2FpdCBmb3IgdGhlIHVzZXIgdG8gcGljayB0aGUgZmlsZXMuCiAgY29uc3QgZmlsZXMgPSB5aWVsZCB7CiAgICBwcm9taXNlOiBQcm9taXNlLnJhY2UoW3BpY2tlZFByb21pc2UsIHRpbWVvdXRQcm9taXNlLCBjYW5jZWxQcm9taXNlXSksCiAgICByZXNwb25zZTogewogICAgICBhY3Rpb246ICdzdGFydGluZycsCiAgICB9CiAgfTsKCiAgaWYgKCFmaWxlcykgewogICAgcmV0dXJuIHsKICAgICAgcmVzcG9uc2U6IHsKICAgICAgICBhY3Rpb246ICdjb21wbGV0ZScsCiAgICAgIH0KICAgIH07CiAgfQoKICBjYW5jZWwucmVtb3ZlKCk7CgogIC8vIERpc2FibGUgdGhlIGlucHV0IGVsZW1lbnQgc2luY2UgZnVydGhlciBwaWNrcyBhcmUgbm90IGFsbG93ZWQuCiAgaW5wdXRFbGVtZW50LmRpc2FibGVkID0gdHJ1ZTsKCiAgZm9yIChjb25zdCBmaWxlIG9mIGZpbGVzKSB7CiAgICBjb25zdCBsaSA9IGRvY3VtZW50LmNyZWF0ZUVsZW1lbnQoJ2xpJyk7CiAgICBsaS5hcHBlbmQoc3BhbihmaWxlLm5hbWUsIHtmb250V2VpZ2h0OiAnYm9sZCd9KSk7CiAgICBsaS5hcHBlbmQoc3BhbigKICAgICAgICBgKCR7ZmlsZS50eXBlIHx8ICduL2EnfSkgLSAke2ZpbGUuc2l6ZX0gYnl0ZXMsIGAgKwogICAgICAgIGBsYXN0IG1vZGlmaWVkOiAkewogICAgICAgICAgICBmaWxlLmxhc3RNb2RpZmllZERhdGUgPyBmaWxlLmxhc3RNb2RpZmllZERhdGUudG9Mb2NhbGVEYXRlU3RyaW5nKCkgOgogICAgICAgICAgICAgICAgICAgICAgICAgICAgICAgICAgICAnbi9hJ30gLSBgKSk7CiAgICBjb25zdCBwZXJjZW50ID0gc3BhbignMCUgZG9uZScpOwogICAgbGkuYXBwZW5kQ2hpbGQocGVyY2VudCk7CgogICAgb3V0cHV0RWxlbWVudC5hcHBlbmRDaGlsZChsaSk7CgogICAgY29uc3QgZmlsZURhdGFQcm9taXNlID0gbmV3IFByb21pc2UoKHJlc29sdmUpID0+IHsKICAgICAgY29uc3QgcmVhZGVyID0gbmV3IEZpbGVSZWFkZXIoKTsKICAgICAgcmVhZGVyLm9ubG9hZCA9IChlKSA9PiB7CiAgICAgICAgcmVzb2x2ZShlLnRhcmdldC5yZXN1bHQpOwogICAgICB9OwogICAgICByZWFkZXIucmVhZEFzQXJyYXlCdWZmZXIoZmlsZSk7CiAgICB9KTsKICAgIC8vIFdhaXQgZm9yIHRoZSBkYXRhIHRvIGJlIHJlYWR5LgogICAgbGV0IGZpbGVEYXRhID0geWllbGQgewogICAgICBwcm9taXNlOiBmaWxlRGF0YVByb21pc2UsCiAgICAgIHJlc3BvbnNlOiB7CiAgICAgICAgYWN0aW9uOiAnY29udGludWUnLAogICAgICB9CiAgICB9OwoKICAgIC8vIFVzZSBhIGNodW5rZWQgc2VuZGluZyB0byBhdm9pZCBtZXNzYWdlIHNpemUgbGltaXRzLiBTZWUgYi82MjExNTY2MC4KICAgIGxldCBwb3NpdGlvbiA9IDA7CiAgICB3aGlsZSAocG9zaXRpb24gPCBmaWxlRGF0YS5ieXRlTGVuZ3RoKSB7CiAgICAgIGNvbnN0IGxlbmd0aCA9IE1hdGgubWluKGZpbGVEYXRhLmJ5dGVMZW5ndGggLSBwb3NpdGlvbiwgTUFYX1BBWUxPQURfU0laRSk7CiAgICAgIGNvbnN0IGNodW5rID0gbmV3IFVpbnQ4QXJyYXkoZmlsZURhdGEsIHBvc2l0aW9uLCBsZW5ndGgpOwogICAgICBwb3NpdGlvbiArPSBsZW5ndGg7CgogICAgICBjb25zdCBiYXNlNjQgPSBidG9hKFN0cmluZy5mcm9tQ2hhckNvZGUuYXBwbHkobnVsbCwgY2h1bmspKTsKICAgICAgeWllbGQgewogICAgICAgIHJlc3BvbnNlOiB7CiAgICAgICAgICBhY3Rpb246ICdhcHBlbmQnLAogICAgICAgICAgZmlsZTogZmlsZS5uYW1lLAogICAgICAgICAgZGF0YTogYmFzZTY0LAogICAgICAgIH0sCiAgICAgIH07CiAgICAgIHBlcmNlbnQudGV4dENvbnRlbnQgPQogICAgICAgICAgYCR7TWF0aC5yb3VuZCgocG9zaXRpb24gLyBmaWxlRGF0YS5ieXRlTGVuZ3RoKSAqIDEwMCl9JSBkb25lYDsKICAgIH0KICB9CgogIC8vIEFsbCBkb25lLgogIHlpZWxkIHsKICAgIHJlc3BvbnNlOiB7CiAgICAgIGFjdGlvbjogJ2NvbXBsZXRlJywKICAgIH0KICB9Owp9CgpzY29wZS5nb29nbGUgPSBzY29wZS5nb29nbGUgfHwge307CnNjb3BlLmdvb2dsZS5jb2xhYiA9IHNjb3BlLmdvb2dsZS5jb2xhYiB8fCB7fTsKc2NvcGUuZ29vZ2xlLmNvbGFiLl9maWxlcyA9IHsKICBfdXBsb2FkRmlsZXMsCiAgX3VwbG9hZEZpbGVzQ29udGludWUsCn07Cn0pKHNlbGYpOwo=",
              "ok": true,
              "headers": [
                [
                  "content-type",
                  "application/javascript"
                ]
              ],
              "status": 200,
              "status_text": "OK"
            }
          },
          "base_uri": "https://localhost:8080/",
          "height": 75
        }
      },
      "cell_type": "code",
      "source": [
        "from google.colab import files\n",
        "uploaded = files.upload()"
      ],
      "execution_count": 4,
      "outputs": [
        {
          "output_type": "display_data",
          "data": {
            "text/html": [
              "\n",
              "     <input type=\"file\" id=\"files-4de8365f-a4f5-48da-95ed-9a487550bf4e\" name=\"files[]\" multiple disabled />\n",
              "     <output id=\"result-4de8365f-a4f5-48da-95ed-9a487550bf4e\">\n",
              "      Upload widget is only available when the cell has been executed in the\n",
              "      current browser session. Please rerun this cell to enable.\n",
              "      </output>\n",
              "      <script src=\"/nbextensions/google.colab/files.js\"></script> "
            ],
            "text/plain": [
              "<IPython.core.display.HTML object>"
            ]
          },
          "metadata": {
            "tags": []
          }
        },
        {
          "output_type": "stream",
          "text": [
            "Saving alcohol_list.csv to alcohol_list.csv\n"
          ],
          "name": "stdout"
        }
      ]
    },
    {
      "metadata": {
        "id": "WSLYsUGvipxF",
        "colab_type": "code",
        "colab": {}
      },
      "cell_type": "code",
      "source": [
        "df = spark.read.csv(\"alcohol_list.csv\", inferSchema=True, header=True)"
      ],
      "execution_count": 0,
      "outputs": []
    },
    {
      "metadata": {
        "id": "zc3_RGYH-oiV",
        "colab_type": "text"
      },
      "cell_type": "markdown",
      "source": [
        ""
      ]
    },
    {
      "metadata": {
        "id": "TcjqWbXyi4CN",
        "colab_type": "code",
        "outputId": "61f5c3e4-ed94-4bce-9bd2-01d376ca4dda",
        "colab": {
          "base_uri": "https://localhost:8080/",
          "height": 35
        }
      },
      "cell_type": "code",
      "source": [
        "type(df)"
      ],
      "execution_count": 6,
      "outputs": [
        {
          "output_type": "execute_result",
          "data": {
            "text/plain": [
              "pyspark.sql.dataframe.DataFrame"
            ]
          },
          "metadata": {
            "tags": []
          },
          "execution_count": 6
        }
      ]
    },
    {
      "metadata": {
        "id": "ROCwRDJXoDKD",
        "colab_type": "text"
      },
      "cell_type": "markdown",
      "source": [
        ""
      ]
    },
    {
      "metadata": {
        "id": "RPYXqXeEoD_E",
        "colab_type": "code",
        "outputId": "f3d5d458-f11d-4e8b-fc3f-1792b309f13a",
        "colab": {
          "base_uri": "https://localhost:8080/",
          "height": 55
        }
      },
      "cell_type": "code",
      "source": [
        "df.describe()"
      ],
      "execution_count": 7,
      "outputs": [
        {
          "output_type": "execute_result",
          "data": {
            "text/plain": [
              "DataFrame[summary: string, GHO (CODE): string, GHO (DISPLAY): string, GHO (URL): string, DATASOURCE (CODE): string, DATASOURCE (DISPLAY): string, DATASOURCE (URL): string, PUBLISHSTATE (CODE): string, PUBLISHSTATE (DISPLAY): string, PUBLISHSTATE (URL): string, YEAR (CODE): string, YEAR (DISPLAY): string, YEAR (URL): string, REGION (CODE): string, REGION (DISPLAY): string, REGION (URL): string, COUNTRY (CODE): string, COUNTRY (DISPLAY): string, COUNTRY (URL): string, ALCOHOLTYPE (CODE): string, ALCOHOLTYPE (DISPLAY): string, ALCOHOLTYPE (URL): string, Display Value: string, Numeric: string, Low: string, High: string, StdErr: string, StdDev: string, Comments: string]"
            ]
          },
          "metadata": {
            "tags": []
          },
          "execution_count": 7
        }
      ]
    },
    {
      "metadata": {
        "id": "LqPK1Rg-oMqh",
        "colab_type": "code",
        "outputId": "68a2c416-1632-4756-bec6-cccfb1e606c3",
        "colab": {
          "base_uri": "https://localhost:8080/",
          "height": 515
        }
      },
      "cell_type": "code",
      "source": [
        "df.show()"
      ],
      "execution_count": 8,
      "outputs": [
        {
          "output_type": "stream",
          "text": [
            "+-------------+--------------------+--------------------+-----------------+--------------------+----------------+-------------------+----------------------+------------------+-----------+--------------+----------+-------------+--------------------+------------+--------------+--------------------+-------------+------------------+---------------------+-----------------+-------------+-------+----+----+------+------+--------+\n",
            "|   GHO (CODE)|       GHO (DISPLAY)|           GHO (URL)|DATASOURCE (CODE)|DATASOURCE (DISPLAY)|DATASOURCE (URL)|PUBLISHSTATE (CODE)|PUBLISHSTATE (DISPLAY)|PUBLISHSTATE (URL)|YEAR (CODE)|YEAR (DISPLAY)|YEAR (URL)|REGION (CODE)|    REGION (DISPLAY)|REGION (URL)|COUNTRY (CODE)|   COUNTRY (DISPLAY)|COUNTRY (URL)|ALCOHOLTYPE (CODE)|ALCOHOLTYPE (DISPLAY)|ALCOHOLTYPE (URL)|Display Value|Numeric| Low|High|StdErr|StdDev|Comments|\n",
            "+-------------+--------------------+--------------------+-----------------+--------------------+----------------+-------------------+----------------------+------------------+-----------+--------------+----------+-------------+--------------------+------------+--------------+--------------------+-------------+------------------+---------------------+-----------------+-------------+-------+----+----+------+------+--------+\n",
            "|SA_0000001400|Alcohol  recorded...|http://apps.who.i...|         GISAHAUS|         Data source|            null|          PUBLISHED|             Published|              null|       2011|          2011|      null|          WPR|     Western Pacific|        null|           AUS|           Australia|         null|           SA_WINE|                 Wine|             null|         3.79|   3.79|null|null|  null|  null|    null|\n",
            "|SA_0000001400|Alcohol  recorded...|http://apps.who.i...|         GISAHKAZ|         Data source|            null|          PUBLISHED|             Published|              null|       2006|          2006|      null|          EUR|              Europe|        null|           KAZ|          Kazakhstan|         null|           SA_BEER|                 Beer|             null|         2.22|   2.22|null|null|  null|  null|    null|\n",
            "|SA_0000001400|Alcohol  recorded...|http://apps.who.i...|         GISAHTZA|         Data source|            null|          PUBLISHED|             Published|              null|       2010|          2010|      null|          AFR|              Africa|        null|           TZA|United Republic o...|         null|          SA_TOTAL|            All types|             null|         4.19|   4.19|null|null|  null|  null|    null|\n",
            "|SA_0000001400|Alcohol  recorded...|http://apps.who.i...|         GISAHNZL|         Data source|            null|          PUBLISHED|             Published|              null|       2012|          2012|      null|          WPR|     Western Pacific|        null|           NZL|         New Zealand|         null|          SA_TOTAL|            All types|             null|         9.20|    9.2|null|null|  null|  null|    null|\n",
            "|SA_0000001400|Alcohol  recorded...|http://apps.who.i...|         GISAHDZA|         Data source|            null|          PUBLISHED|             Published|              null|       2005|          2005|      null|          AFR|              Africa|        null|           DZA|             Algeria|         null|        SA_SPIRITS|              Spirits|             null|         0.02|   0.02|null|null|  null|  null|    null|\n",
            "|SA_0000001400|Alcohol  recorded...|http://apps.who.i...|         GISAHCHE|         Data source|            null|          PUBLISHED|             Published|              null|       2003|          2003|      null|          EUR|              Europe|        null|           CHE|         Switzerland|         null|           SA_BEER|                 Beer|             null|         3.37|   3.37|null|null|  null|  null|    null|\n",
            "|SA_0000001400|Alcohol  recorded...|http://apps.who.i...|         GISAHCAF|         Data source|            null|          PUBLISHED|             Published|              null|       2009|          2009|      null|          AFR|              Africa|        null|           CAF|Central African R...|         null|           SA_WINE|                 Wine|             null|         0.01|   0.01|null|null|  null|  null|    null|\n",
            "|SA_0000001400|Alcohol  recorded...|http://apps.who.i...|         GISAHUKR|         Data source|            null|          PUBLISHED|             Published|              null|       2004|          2004|      null|          EUR|              Europe|        null|           UKR|             Ukraine|         null|          SA_TOTAL|            All types|             null|         6.79|   6.79|null|null|  null|  null|    null|\n",
            "|SA_0000001400|Alcohol  recorded...|http://apps.who.i...|         GISAHECU|         Data source|            null|          PUBLISHED|             Published|              null|       2011|          2011|      null|          AMR|            Americas|        null|           ECU|             Ecuador|         null|        SA_SPIRITS|              Spirits|             null|         1.15|   1.15|null|null|  null|  null|    null|\n",
            "|SA_0000001400|Alcohol  recorded...|http://apps.who.i...|         GISAHGIN|         Data source|            null|          PUBLISHED|             Published|              null|       2003|          2003|      null|          AFR|              Africa|        null|           GIN|              Guinea|         null|        SA_SPIRITS|              Spirits|             null|         0.00|    0.0|null|null|  null|  null|    null|\n",
            "|SA_0000001400|Alcohol  recorded...|http://apps.who.i...|         GISAHKNA|         Data source|            null|          PUBLISHED|             Published|              null|       2013|          2013|      null|          AMR|            Americas|        null|           KNA|Saint Kitts and N...|         null|           SA_BEER|                 Beer|             null|         3.96|   3.96|null|null|  null|  null|    null|\n",
            "|SA_0000001400|Alcohol  recorded...|http://apps.who.i...|         GISAHSOM|         Data source|            null|          PUBLISHED|             Published|              null|       2000|          2000|      null|          EMR|Eastern Mediterra...|        null|           SOM|             Somalia|         null|           SA_BEER|                 Beer|             null|         0.00|    0.0|null|null|  null|  null|    null|\n",
            "|SA_0000001400|Alcohol  recorded...|http://apps.who.i...|         GISAHEST|         Data source|            null|          PUBLISHED|             Published|              null|       2004|          2004|      null|          EUR|              Europe|        null|           EST|             Estonia|         null|  SA_OTHER_ALCOHOL| Other alcoholic b...|             null|         2.39|   2.39|null|null|  null|  null|    null|\n",
            "|SA_0000001400|Alcohol  recorded...|http://apps.who.i...|         GISAHKWT|         Data source|            null|          PUBLISHED|             Published|              null|       2004|          2004|      null|          EMR|Eastern Mediterra...|        null|           KWT|              Kuwait|         null|           SA_BEER|                 Beer|             null|         0.00|    0.0|null|null|  null|  null|    null|\n",
            "|SA_0000001400|Alcohol  recorded...|http://apps.who.i...|         GISAHMDA|         Data source|            null|          PUBLISHED|             Published|              null|       2007|          2007|      null|          EUR|              Europe|        null|           MDA| Republic of Moldova|         null|  SA_OTHER_ALCOHOL| Other alcoholic b...|             null|         0.41|   0.41|null|null|  null|  null|    null|\n",
            "|SA_0000001400|Alcohol  recorded...|http://apps.who.i...|         GISAHMDG|         Data source|            null|          PUBLISHED|             Published|              null|       2012|          2012|      null|          AFR|              Africa|        null|           MDG|          Madagascar|         null|  SA_OTHER_ALCOHOL| Other alcoholic b...|             null|         0.00|    0.0|null|null|  null|  null|    null|\n",
            "|SA_0000001400|Alcohol  recorded...|http://apps.who.i...|         GISAHGEO|         Data source|            null|          PUBLISHED|             Published|              null|       2010|          2010|      null|          EUR|              Europe|        null|           GEO|             Georgia|         null|        SA_SPIRITS|              Spirits|             null|         2.11|   2.11|null|null|  null|  null|    null|\n",
            "|SA_0000001400|Alcohol  recorded...|http://apps.who.i...|         GISAHRUS|         Data source|            null|          PUBLISHED|             Published|              null|       2011|          2011|      null|          EUR|              Europe|        null|           RUS|  Russian Federation|         null|           SA_WINE|                 Wine|             null|         1.24|   1.24|null|null|  null|  null|    null|\n",
            "|SA_0000001400|Alcohol  recorded...|http://apps.who.i...|         GISAHBGD|         Data source|            null|          PUBLISHED|             Published|              null|       2007|          2007|      null|         SEAR|     South-East Asia|        null|           BGD|          Bangladesh|         null|          SA_TOTAL|            All types|             null|         0.00|    0.0|null|null|  null|  null|    null|\n",
            "|SA_0000001400|Alcohol  recorded...|http://apps.who.i...|         GISAHCOK|         Data source|            null|          PUBLISHED|             Published|              null|       2000|          2000|      null|          WPR|     Western Pacific|        null|           COK|        Cook Islands|         null|  SA_OTHER_ALCOHOL| Other alcoholic b...|             null|         0.00|    0.0|null|null|  null|  null|    null|\n",
            "+-------------+--------------------+--------------------+-----------------+--------------------+----------------+-------------------+----------------------+------------------+-----------+--------------+----------+-------------+--------------------+------------+--------------+--------------------+-------------+------------------+---------------------+-----------------+-------------+-------+----+----+------+------+--------+\n",
            "only showing top 20 rows\n",
            "\n"
          ],
          "name": "stdout"
        }
      ]
    },
    {
      "metadata": {
        "id": "54a76B08oSO3",
        "colab_type": "text"
      },
      "cell_type": "markdown",
      "source": [
        ""
      ]
    },
    {
      "metadata": {
        "id": "5wzRSsiSoS09",
        "colab_type": "code",
        "outputId": "7dbe673e-6992-4323-f422-e1806f9582e3",
        "colab": {
          "base_uri": "https://localhost:8080/",
          "height": 568
        }
      },
      "cell_type": "code",
      "source": [
        "df.printSchema()"
      ],
      "execution_count": 9,
      "outputs": [
        {
          "output_type": "stream",
          "text": [
            "root\n",
            " |-- GHO (CODE): string (nullable = true)\n",
            " |-- GHO (DISPLAY): string (nullable = true)\n",
            " |-- GHO (URL): string (nullable = true)\n",
            " |-- DATASOURCE (CODE): string (nullable = true)\n",
            " |-- DATASOURCE (DISPLAY): string (nullable = true)\n",
            " |-- DATASOURCE (URL): string (nullable = true)\n",
            " |-- PUBLISHSTATE (CODE): string (nullable = true)\n",
            " |-- PUBLISHSTATE (DISPLAY): string (nullable = true)\n",
            " |-- PUBLISHSTATE (URL): string (nullable = true)\n",
            " |-- YEAR (CODE): integer (nullable = true)\n",
            " |-- YEAR (DISPLAY): integer (nullable = true)\n",
            " |-- YEAR (URL): string (nullable = true)\n",
            " |-- REGION (CODE): string (nullable = true)\n",
            " |-- REGION (DISPLAY): string (nullable = true)\n",
            " |-- REGION (URL): string (nullable = true)\n",
            " |-- COUNTRY (CODE): string (nullable = true)\n",
            " |-- COUNTRY (DISPLAY): string (nullable = true)\n",
            " |-- COUNTRY (URL): string (nullable = true)\n",
            " |-- ALCOHOLTYPE (CODE): string (nullable = true)\n",
            " |-- ALCOHOLTYPE (DISPLAY): string (nullable = true)\n",
            " |-- ALCOHOLTYPE (URL): string (nullable = true)\n",
            " |-- Display Value: string (nullable = true)\n",
            " |-- Numeric: double (nullable = true)\n",
            " |-- Low: string (nullable = true)\n",
            " |-- High: string (nullable = true)\n",
            " |-- StdErr: string (nullable = true)\n",
            " |-- StdDev: string (nullable = true)\n",
            " |-- Comments: string (nullable = true)\n",
            "\n"
          ],
          "name": "stdout"
        }
      ]
    },
    {
      "metadata": {
        "id": "Il8FsmxBoS8F",
        "colab_type": "code",
        "outputId": "5b563ad0-f3ae-482c-cbad-0ce86a51a110",
        "colab": {
          "base_uri": "https://localhost:8080/",
          "height": 35
        }
      },
      "cell_type": "code",
      "source": [
        "df.count()"
      ],
      "execution_count": 10,
      "outputs": [
        {
          "output_type": "execute_result",
          "data": {
            "text/plain": [
              "13235"
            ]
          },
          "metadata": {
            "tags": []
          },
          "execution_count": 10
        }
      ]
    },
    {
      "metadata": {
        "id": "LdwWWu8NoTc4",
        "colab_type": "code",
        "colab": {}
      },
      "cell_type": "code",
      "source": [
        "df_whatever = df.select('YEAR (DISPLAY)', 'REGION (DISPLAY)', 'COUNTRY (DISPLAY)', 'ALCOHOLTYPE (DISPLAY)', 'Display Value')"
      ],
      "execution_count": 0,
      "outputs": []
    },
    {
      "metadata": {
        "id": "7iQl0BC_oTro",
        "colab_type": "code",
        "outputId": "449a5ff2-532a-4c34-cba5-5f733d235ae6",
        "colab": {
          "base_uri": "https://localhost:8080/",
          "height": 35
        }
      },
      "cell_type": "code",
      "source": [
        "df_whatever.first()"
      ],
      "execution_count": 12,
      "outputs": [
        {
          "output_type": "execute_result",
          "data": {
            "text/plain": [
              "Row(YEAR (DISPLAY)=2011, REGION (DISPLAY)='Western Pacific', COUNTRY (DISPLAY)='Australia', ALCOHOLTYPE (DISPLAY)='Wine', Display Value='3.79')"
            ]
          },
          "metadata": {
            "tags": []
          },
          "execution_count": 12
        }
      ]
    },
    {
      "metadata": {
        "id": "wtk0PcavopXT",
        "colab_type": "code",
        "outputId": "94c023bb-98c8-4a3f-f019-a3497bbce7d0",
        "colab": {
          "base_uri": "https://localhost:8080/",
          "height": 201
        }
      },
      "cell_type": "code",
      "source": [
        "df_whatever.describe('Display Value').show()"
      ],
      "execution_count": 13,
      "outputs": [
        {
          "output_type": "stream",
          "text": [
            "+-------+------------------+\n",
            "|summary|     Display Value|\n",
            "+-------+------------------+\n",
            "|  count|             13235|\n",
            "|   mean| 2.022251300887662|\n",
            "| stddev|2.7920093615709276|\n",
            "|    min|                 0|\n",
            "|    max|           No data|\n",
            "+-------+------------------+\n",
            "\n"
          ],
          "name": "stdout"
        }
      ]
    },
    {
      "metadata": {
        "id": "wkrOyxfcoT3k",
        "colab_type": "code",
        "outputId": "d73dc6e1-8c47-4a88-847b-621761547c7e",
        "colab": {
          "base_uri": "https://localhost:8080/",
          "height": 201
        }
      },
      "cell_type": "code",
      "source": [
        "\n",
        "df_whatever.filter((df['COUNTRY (DISPLAY)']=='Ireland') & (df['YEAR (DISPLAY)']==2014)).show()"
      ],
      "execution_count": 14,
      "outputs": [
        {
          "output_type": "stream",
          "text": [
            "+--------------+----------------+-----------------+---------------------+-------------+\n",
            "|YEAR (DISPLAY)|REGION (DISPLAY)|COUNTRY (DISPLAY)|ALCOHOLTYPE (DISPLAY)|Display Value|\n",
            "+--------------+----------------+-----------------+---------------------+-------------+\n",
            "|          2014|          Europe|          Ireland|                 Beer|         5.13|\n",
            "|          2014|          Europe|          Ireland|            All types|        10.75|\n",
            "|          2014|          Europe|          Ireland|              Spirits|         1.97|\n",
            "|          2014|          Europe|          Ireland| Other alcoholic b...|         0.85|\n",
            "|          2014|          Europe|          Ireland|                 Wine|         2.80|\n",
            "+--------------+----------------+-----------------+---------------------+-------------+\n",
            "\n"
          ],
          "name": "stdout"
        }
      ]
    },
    {
      "metadata": {
        "id": "kKi83jyjoT7S",
        "colab_type": "code",
        "outputId": "0b29c918-d5e0-4d26-b5c9-6f2315f28b79",
        "colab": {
          "base_uri": "https://localhost:8080/",
          "height": 201
        }
      },
      "cell_type": "code",
      "source": [
        "df_whatever.where((df['COUNTRY (DISPLAY)']=='Ireland') & (df['YEAR (DISPLAY)']==2014)).show()"
      ],
      "execution_count": 15,
      "outputs": [
        {
          "output_type": "stream",
          "text": [
            "+--------------+----------------+-----------------+---------------------+-------------+\n",
            "|YEAR (DISPLAY)|REGION (DISPLAY)|COUNTRY (DISPLAY)|ALCOHOLTYPE (DISPLAY)|Display Value|\n",
            "+--------------+----------------+-----------------+---------------------+-------------+\n",
            "|          2014|          Europe|          Ireland|                 Beer|         5.13|\n",
            "|          2014|          Europe|          Ireland|            All types|        10.75|\n",
            "|          2014|          Europe|          Ireland|              Spirits|         1.97|\n",
            "|          2014|          Europe|          Ireland| Other alcoholic b...|         0.85|\n",
            "|          2014|          Europe|          Ireland|                 Wine|         2.80|\n",
            "+--------------+----------------+-----------------+---------------------+-------------+\n",
            "\n"
          ],
          "name": "stdout"
        }
      ]
    },
    {
      "metadata": {
        "id": "ODdtulCGoT-c",
        "colab_type": "code",
        "colab": {}
      },
      "cell_type": "code",
      "source": [
        "df_whatever = df_whatever.withColumnRenamed(\"YEAR (DISPLAY)\", \"year\").withColumnRenamed(\"REGION (DISPLAY)\", \"region\").withColumnRenamed(\"COUNTRY (DISPLAY)\", \"country\").withColumnRenamed(\"ALCOHOLTYPE (DISPLAY)\", \"alc_type\").withColumnRenamed(\"Display Value\", \"value\")"
      ],
      "execution_count": 0,
      "outputs": []
    },
    {
      "metadata": {
        "id": "WrLEcfHloUBa",
        "colab_type": "code",
        "colab": {}
      },
      "cell_type": "code",
      "source": [
        "df_whatever.registerTempTable('df_whatever')"
      ],
      "execution_count": 0,
      "outputs": []
    },
    {
      "metadata": {
        "id": "wE5nihtjpH56",
        "colab_type": "code",
        "outputId": "d115f46b-6a6a-44e6-d6a5-a7f3838ab1aa",
        "colab": {
          "base_uri": "https://localhost:8080/",
          "height": 1046
        }
      },
      "cell_type": "code",
      "source": [
        "from pyspark.sql import SQLContext\n",
        "sqlContext = SQLContext(spark)\n",
        "sqlContext.sql('select * from df_whatever').show(50)"
      ],
      "execution_count": 18,
      "outputs": [
        {
          "output_type": "stream",
          "text": [
            "+----+--------------------+--------------------+--------------------+-----+\n",
            "|year|              region|             country|            alc_type|value|\n",
            "+----+--------------------+--------------------+--------------------+-----+\n",
            "|2011|     Western Pacific|           Australia|                Wine| 3.79|\n",
            "|2006|              Europe|          Kazakhstan|                Beer| 2.22|\n",
            "|2010|              Africa|United Republic o...|           All types| 4.19|\n",
            "|2012|     Western Pacific|         New Zealand|           All types| 9.20|\n",
            "|2005|              Africa|             Algeria|             Spirits| 0.02|\n",
            "|2003|              Europe|         Switzerland|                Beer| 3.37|\n",
            "|2009|              Africa|Central African R...|                Wine| 0.01|\n",
            "|2004|              Europe|             Ukraine|           All types| 6.79|\n",
            "|2011|            Americas|             Ecuador|             Spirits| 1.15|\n",
            "|2003|              Africa|              Guinea|             Spirits| 0.00|\n",
            "|2013|            Americas|Saint Kitts and N...|                Beer| 3.96|\n",
            "|2000|Eastern Mediterra...|             Somalia|                Beer| 0.00|\n",
            "|2004|              Europe|             Estonia|Other alcoholic b...| 2.39|\n",
            "|2004|Eastern Mediterra...|              Kuwait|                Beer| 0.00|\n",
            "|2007|              Europe| Republic of Moldova|Other alcoholic b...| 0.41|\n",
            "|2012|              Africa|          Madagascar|Other alcoholic b...| 0.00|\n",
            "|2010|              Europe|             Georgia|             Spirits| 2.11|\n",
            "|2011|              Europe|  Russian Federation|                Wine| 1.24|\n",
            "|2007|     South-East Asia|          Bangladesh|           All types| 0.00|\n",
            "|2000|     Western Pacific|        Cook Islands|Other alcoholic b...| 0.00|\n",
            "|2010|              Africa|          Mozambique|             Spirits| 0.19|\n",
            "|2009|            Americas|                Cuba|Other alcoholic b...| 0.02|\n",
            "|2013|              Europe|            Bulgaria|           All types|12.06|\n",
            "|2000|              Europe|             Czechia|Other alcoholic b...| 0.00|\n",
            "|2002|              Africa|            Zimbabwe|                Wine| 0.28|\n",
            "|2001|              Europe|          Azerbaijan|                Wine| 0.05|\n",
            "|2000|     Western Pacific|               Japan|                Beer| 2.50|\n",
            "|2005|              Europe|             Romania|                Wine| 2.33|\n",
            "|2001|     Western Pacific|            Mongolia|             Spirits| 2.29|\n",
            "|2009|     Western Pacific|Micronesia (Feder...|           All types| 2.06|\n",
            "|2000|              Europe|             Iceland|                Beer| 3.03|\n",
            "|2007|              Africa|Democratic Republ...|                Beer| 0.49|\n",
            "|2011|              Europe|           Lithuania|Other alcoholic b...| 1.97|\n",
            "|2002|     Western Pacific|               Samoa|                Wine| 0.05|\n",
            "|2004|              Europe|             Finland|             Spirits| 2.79|\n",
            "|2007|     South-East Asia|               India|           All types| 1.59|\n",
            "|2004|Eastern Mediterra...|Syrian Arab Republic|             Spirits| 0.56|\n",
            "|2004|     Western Pacific|                Niue|           All types| 8.71|\n",
            "|2005|            Americas|            Barbados|                Wine| 0.75|\n",
            "|2002|            Americas|Saint Vincent and...|           All types| 4.94|\n",
            "|2008|Eastern Mediterra...|         Afghanistan|             Spirits| 0.02|\n",
            "|2002|              Europe|             Belgium|Other alcoholic b...| 0.00|\n",
            "|2013|     Western Pacific|         Philippines|           All types| 4.61|\n",
            "|2000|              Africa|             Namibia|             Spirits| 0.80|\n",
            "|2009|     Western Pacific|           Singapore|Other alcoholic b...| 0.03|\n",
            "|2003|            Americas|  Dominican Republic|Other alcoholic b...| 0.00|\n",
            "|2005|              Africa|Sao Tome and Prin...|             Spirits| 0.74|\n",
            "|2010|              Europe|             Andorra|                Wine| 4.39|\n",
            "|2003|            Americas|              Brazil|           All types| 6.95|\n",
            "|2000|     South-East Asia|               Nepal|             Spirits| 0.01|\n",
            "+----+--------------------+--------------------+--------------------+-----+\n",
            "only showing top 50 rows\n",
            "\n"
          ],
          "name": "stdout"
        }
      ]
    },
    {
      "metadata": {
        "id": "4LFJBt7mw4Yt",
        "colab_type": "code",
        "outputId": "1ef8a1f4-cf47-4bdb-b8b5-dd7edcae3f0b",
        "colab": {
          "base_uri": "https://localhost:8080/",
          "height": 35
        }
      },
      "cell_type": "code",
      "source": [
        "type(spark)"
      ],
      "execution_count": 19,
      "outputs": [
        {
          "output_type": "execute_result",
          "data": {
            "text/plain": [
              "pyspark.sql.session.SparkSession"
            ]
          },
          "metadata": {
            "tags": []
          },
          "execution_count": 19
        }
      ]
    },
    {
      "metadata": {
        "id": "EM8qkl7EpIDK",
        "colab_type": "code",
        "outputId": "6f92ff2f-1122-41c0-b264-d2459304ce58",
        "colab": {
          "base_uri": "https://localhost:8080/",
          "height": 127
        }
      },
      "cell_type": "code",
      "source": [
        "sqlContext.sql('select min(year), max(year) from df_whatever').show()"
      ],
      "execution_count": 20,
      "outputs": [
        {
          "output_type": "stream",
          "text": [
            "+---------+---------+\n",
            "|min(year)|max(year)|\n",
            "+---------+---------+\n",
            "|     2000|     2015|\n",
            "+---------+---------+\n",
            "\n"
          ],
          "name": "stdout"
        }
      ]
    },
    {
      "metadata": {
        "id": "bBrCImKfpIMF",
        "colab_type": "code",
        "colab": {}
      },
      "cell_type": "code",
      "source": [
        ""
      ],
      "execution_count": 0,
      "outputs": []
    },
    {
      "metadata": {
        "id": "vxX-jhY9pIJo",
        "colab_type": "code",
        "outputId": "6e6c8a4b-08cf-4f26-9e4a-c28619b3681e",
        "colab": {
          "base_uri": "https://localhost:8080/",
          "height": 127
        }
      },
      "cell_type": "code",
      "source": [
        "sqlContext.sql('select min(year), max(year) from df_whatever where country=\\'Ireland\\'').show()"
      ],
      "execution_count": 21,
      "outputs": [
        {
          "output_type": "stream",
          "text": [
            "+---------+---------+\n",
            "|min(year)|max(year)|\n",
            "+---------+---------+\n",
            "|     2000|     2014|\n",
            "+---------+---------+\n",
            "\n"
          ],
          "name": "stdout"
        }
      ]
    },
    {
      "metadata": {
        "id": "tW_0l8q6pIHI",
        "colab_type": "code",
        "outputId": "6c3e87bd-496f-475b-8c50-fca31610e26b",
        "colab": {
          "base_uri": "https://localhost:8080/",
          "height": 495
        }
      },
      "cell_type": "code",
      "source": [
        "sqlContext.sql('select * from df_whatever where region=\\'Europe\\' and alc_type=\\'All types\\' order by value desc').show()"
      ],
      "execution_count": 22,
      "outputs": [
        {
          "output_type": "stream",
          "text": [
            "+----+------+----------+---------+-------+\n",
            "|year|region|   country| alc_type|  value|\n",
            "+----+------+----------+---------+-------+\n",
            "|2009|Europe|San Marino|All types|No data|\n",
            "|2009|Europe|    Monaco|All types|No data|\n",
            "|2010|Europe|    Monaco|All types|No data|\n",
            "|2000|Europe|    Monaco|All types|No data|\n",
            "|2006|Europe|San Marino|All types|No data|\n",
            "|2002|Europe|San Marino|All types|No data|\n",
            "|2003|Europe|San Marino|All types|No data|\n",
            "|2003|Europe|    Monaco|All types|No data|\n",
            "|2000|Europe|San Marino|All types|No data|\n",
            "|2006|Europe|    Monaco|All types|No data|\n",
            "|2008|Europe|    Monaco|All types|No data|\n",
            "|2007|Europe|    Monaco|All types|No data|\n",
            "|2007|Europe|San Marino|All types|No data|\n",
            "|2005|Europe|San Marino|All types|No data|\n",
            "|2004|Europe|    Monaco|All types|No data|\n",
            "|2004|Europe|San Marino|All types|No data|\n",
            "|2001|Europe|San Marino|All types|No data|\n",
            "|2005|Europe|    Monaco|All types|No data|\n",
            "|2010|Europe|San Marino|All types|No data|\n",
            "|2001|Europe|    Monaco|All types|No data|\n",
            "+----+------+----------+---------+-------+\n",
            "only showing top 20 rows\n",
            "\n"
          ],
          "name": "stdout"
        }
      ]
    },
    {
      "metadata": {
        "id": "6FvRXamvpH_6",
        "colab_type": "code",
        "colab": {}
      },
      "cell_type": "code",
      "source": [
        "df_whatever = sqlContext.sql(\"select * from df_whatever where value<>\\'No data\\' \")"
      ],
      "execution_count": 0,
      "outputs": []
    },
    {
      "metadata": {
        "id": "f2PxoF53wZe8",
        "colab_type": "code",
        "outputId": "8ec4092f-86c8-43aa-c2df-fba65cba9ae5",
        "colab": {
          "base_uri": "https://localhost:8080/",
          "height": 495
        }
      },
      "cell_type": "code",
      "source": [
        "sqlContext.sql('select * from df_whatever where region=\\'Europe\\' and year=2014 and alc_type=\\'All types\\' and value!=\\'No data\\' order by value desc').show()"
      ],
      "execution_count": 24,
      "outputs": [
        {
          "output_type": "stream",
          "text": [
            "+----+------+--------------------+---------+-----+\n",
            "|year|region|             country| alc_type|value|\n",
            "+----+------+--------------------+---------+-----+\n",
            "|2014|Europe| Republic of Moldova|All types| 9.99|\n",
            "|2014|Europe|            Portugal|All types| 9.88|\n",
            "|2014|Europe|             Denmark|All types| 9.64|\n",
            "|2014|Europe|         Switzerland|All types| 9.61|\n",
            "|2014|Europe|              Serbia|All types| 9.09|\n",
            "|2014|Europe|             Finland|All types| 8.80|\n",
            "|2014|Europe|               Malta|All types| 8.49|\n",
            "|2014|Europe|             Ukraine|All types| 8.06|\n",
            "|2014|Europe|               Italy|All types| 7.56|\n",
            "|2014|Europe|              Greece|All types| 7.53|\n",
            "|2014|Europe|             Iceland|All types| 7.45|\n",
            "|2014|Europe|              Sweden|All types| 7.30|\n",
            "|2014|Europe|          Kazakhstan|All types| 6.29|\n",
            "|2014|Europe|             Georgia|All types| 6.13|\n",
            "|2014|Europe|              Norway|All types| 6.06|\n",
            "|2014|Europe|             Albania|All types| 4.51|\n",
            "|2014|Europe|Bosnia and Herzeg...|All types| 4.03|\n",
            "|2014|Europe|             Armenia|All types| 3.91|\n",
            "|2014|Europe|        Turkmenistan|All types| 2.90|\n",
            "|2014|Europe|              Israel|All types| 2.62|\n",
            "+----+------+--------------------+---------+-----+\n",
            "only showing top 20 rows\n",
            "\n"
          ],
          "name": "stdout"
        }
      ]
    },
    {
      "metadata": {
        "id": "2NHEw1OYwcEe",
        "colab_type": "text"
      },
      "cell_type": "markdown",
      "source": [
        "# RDD"
      ]
    },
    {
      "metadata": {
        "id": "VpGY99xGwhvQ",
        "colab_type": "text"
      },
      "cell_type": "markdown",
      "source": [
        "Parallelized Collections\n",
        "\n"
      ]
    },
    {
      "metadata": {
        "id": "bhMTJhQwwlfp",
        "colab_type": "text"
      },
      "cell_type": "markdown",
      "source": [
        "Parallelized collections are created by calling SparkContext’s parallelize method on an existing iterable or collection in your driver program. The elements of the collection are copied to form a distributed dataset that can be operated on in parallel. For example, here is how to create a parallelized collection holding the numbers 1 to 5:"
      ]
    },
    {
      "metadata": {
        "id": "UUocIzC6wrpH",
        "colab_type": "code",
        "colab": {}
      },
      "cell_type": "code",
      "source": [
        "data = [1, 2, 3, 4, 5]\n",
        "distData = spark.parallelize(data)\n",
        "distData.filter(lambda x: x % 2 == 0).collect()"
      ],
      "execution_count": 0,
      "outputs": []
    },
    {
      "metadata": {
        "id": "wDxr69DI0Bwl",
        "colab_type": "code",
        "colab": {}
      },
      "cell_type": "code",
      "source": [
        "textFile  = sc.textFile(\"file:///Users/Administrator/Downloads/war-and-peace.txt\") "
      ],
      "execution_count": 0,
      "outputs": []
    },
    {
      "metadata": {
        "id": "2mJ9xjTa5IL_",
        "colab_type": "code",
        "colab": {}
      },
      "cell_type": "code",
      "source": [
        "textFile.count()"
      ],
      "execution_count": 0,
      "outputs": []
    },
    {
      "metadata": {
        "id": "co_Eaqp160Z_",
        "colab_type": "text"
      },
      "cell_type": "markdown",
      "source": [
        ""
      ]
    },
    {
      "metadata": {
        "id": "Yuru4kBp61Ec",
        "colab_type": "code",
        "colab": {}
      },
      "cell_type": "code",
      "source": [
        "import functools\n",
        "lineLengths = textFile.map(lambda s: len(s))\n",
        "totalLength = lineLengths.reduce(lambda a, b: a + b)"
      ],
      "execution_count": 0,
      "outputs": []
    },
    {
      "metadata": {
        "id": "Rwa_K0U_69ZH",
        "colab_type": "code",
        "colab": {}
      },
      "cell_type": "code",
      "source": [
        "print(totalLength)"
      ],
      "execution_count": 0,
      "outputs": []
    }
  ]
}